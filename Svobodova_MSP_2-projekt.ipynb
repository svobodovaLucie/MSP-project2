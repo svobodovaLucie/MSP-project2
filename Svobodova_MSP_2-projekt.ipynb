{
 "cells": [
  {
   "cell_type": "markdown",
   "id": "ec6ab80e-5935-4ac3-ab01-9e539fb688ce",
   "metadata": {},
   "source": [
    "# MSP - 2. projekt \n",
    "\n",
    "Lucie Svobodová (xsvobo1x@stud.fit.vutbr.cz)  \n",
    "Statistika a pravděpodobnost (MSP)  \n",
    "FIT VUT, 2023/2024  \n"
   ]
  },
  {
   "cell_type": "code",
   "execution_count": 1,
   "id": "6a7cfa23-52d9-4a1e-9797-2dca6f2b22db",
   "metadata": {},
   "outputs": [],
   "source": [
    "# Import použitých knihoven\n",
    "import numpy as np\n",
    "import matplotlib.pyplot as plt\n",
    "import scipy.stats as stats\n",
    "import pandas as pd\n",
    "import numpy as np\n",
    "import pandas as pd\n",
    "import matplotlib.pyplot as plt\n",
    "from scipy.stats import gamma, poisson\n",
    "\n",
    "import statsmodels.formula.api as smf\n",
    "from statsmodels.stats.outliers_influence import variance_inflation_factor\n",
    "from statsmodels.graphics.gofplots import qqplot\n",
    "from matplotlib import cm"
   ]
  },
  {
   "cell_type": "markdown",
   "id": "04c3abae-8642-448d-b4ef-bbd48bf01df3",
   "metadata": {},
   "source": [
    "## Bayesovské odhady - úloha 1\n",
    "\n",
    "### a) Konjugované apriorní a aposteriorní rozdělení, prediktivní rozdělení\n",
    "\n",
    "Předpokládáme, že počet připojení na internetovou síť za 1 ms je popsaný náhodnou veličinou s Poissonovým rozdělením s parametrem 𝜆, t.j. 𝑋~𝑃𝑜(𝜆).\n",
    "\n",
    "O parametru 𝜆 máme následující expertní odhad: každých 5 ms by mělo nastat 10 připojení. \n",
    "\n",
    "Pozorovali jsme připojení po dobu 100 ms. Pozorovaní o počtu připojení za každou 1 ms jsou uvedené v souboru measurements.csv ve sloupci „úloha_1 a)“.\n",
    "\n",
    "Vašim zadáním je z této expertní informace urči konjugované apriorní rozdělení k parametru Poissonova rozdělení a na základě pozorovaní určit aposteriorní rozdělení. Dále určete apriorní a aposteriorní prediktivní rozdělení pozorovaní. "
   ]
  },
  {
   "cell_type": "code",
   "execution_count": null,
   "id": "25985269-8b96-4789-9d93-d3c182863a76",
   "metadata": {},
   "outputs": [],
   "source": [
    "# Načtení dat\n",
    "data = pd.read_csv(\"measurements.csv\")\n",
    "observed_data = data[\"uloha_1 a)\"].values\n",
    "observed_data = observed_data[~np.isnan(observed_data)]\n",
    "\n",
    "# Expertní odhad parametru λ\n",
    "lambda_expert = 10 / 5  # 10 připojení za 5 ms\n"
   ]
  },
  {
   "cell_type": "markdown",
   "id": "c851c6a4-ee19-49f6-99ee-afc17152f970",
   "metadata": {},
   "source": [
    "1) Do jednoho obrázku vykreslete apriorní a aposteriorní hustotou parametru Poissonova rozdělení 𝜆."
   ]
  },
  {
   "attachments": {},
   "cell_type": "markdown",
   "id": "f18d615b-7da0-48a1-8c60-2a358db80b62",
   "metadata": {},
   "source": [
    "Konjugované apriorní rozdělení: Gamma  \n",
    "Apriorní parametry: α, β  \n",
    "α total occurrences in β intervals  \n",
    "α = 10  \n",
    "β = 5 \n",
    "\n",
    "Z tabulky konjugovaných rozdělení určíme apriorní i aposteriorní rozdělení.\n",
    "\n",
    "Posteriorní parametry:\n",
    "α+Σxi, β+n"
   ]
  },
  {
   "cell_type": "code",
   "execution_count": null,
   "id": "b038440d-0846-433d-a96c-58ffab82d2aa",
   "metadata": {},
   "outputs": [],
   "source": [
    "# # Apriorní informace\n",
    "# alpha_prior = 10\n",
    "# beta_prior = 5\n",
    "\n",
    "# # Apriorní rozdělení (gamma rozdělení)\n",
    "# prior_distribution = np.random.gamma(alpha_prior, beta_prior, 100)\n",
    "\n",
    "# # Apriorní hustota\n",
    "# plt.figure(figsize=(10, 6))\n",
    "# plt.hist(prior_distribution, bins=50, density=True, alpha=0.5, color='blue', label='Apriorní')\n",
    "\n",
    "# # Aposteriorní rozdělení (gamma rozdělení)\n",
    "# alpha_posterior = alpha_prior + sum(observations)\n",
    "# beta_posterior = beta_prior + len(observations)\n",
    "\n",
    "# posterior_distribution = np.random.gamma(alpha_posterior, beta_posterior, 100)\n",
    "\n",
    "# print(prior_distribution)\n",
    "# print(posterior_distribution)\n",
    "# print(observations)\n",
    "# print(\"sum\", sum(observations))\n",
    "# print(\"len\", len(observations))\n",
    "\n",
    "# Aposteriorní hustota\n",
    "# plt.hist(posterior_distribution, bins=50, density=True, alpha=0.5, color='red', label='Aposteriorní')\n",
    "\n",
    "# plt.title('Apriorní a Aposteriorní Hustota Parametru Poissonova Rozdělení')\n",
    "# plt.xlabel('λ')\n",
    "# plt.ylabel('Hustota pravděpodobnosti')\n",
    "# plt.show()\n"
   ]
  },
  {
   "cell_type": "code",
   "execution_count": null,
   "id": "c79883d8-fed9-4133-9493-6f0dc2d13b55",
   "metadata": {},
   "outputs": [],
   "source": [
    "# Použití expertního odhadu pro konjugované apriorní rozdělení\n",
    "a_prior = 10\n",
    "b_prior = 5\n",
    "\n",
    "a_posterior = a_prior + sum(observed_data)\n",
    "b_posterior = b_prior + len(observed_data)\n",
    "lambda_posterior_mean = a_posterior / b_posterior\n",
    "\n",
    "# print(len(observed_data))\n",
    "# print(observed_data)\n",
    "# print(a_prior)\n",
    "# print(sum(observed_data))\n",
    "# print(a_posterior)\n",
    "\n",
    "# 1. Vykreslení apriorního a aposteriorního rozdělení parametru λ:\n",
    "x = np.linspace(0, 10, 1000)\n",
    "prior = gamma.pdf(x, a_prior, scale=1/b_prior)\n",
    "posterior = gamma.pdf(x, a_posterior, scale=1/b_posterior)\n",
    "\n",
    "plt.plot(x, prior, label=\"Apriorní\")\n",
    "plt.plot(x, posterior, label=\"Aposteriorní\")\n",
    "plt.legend()\n",
    "plt.title(\"Apriorní a aposteriorní rozdělení parametru λ\")\n",
    "plt.show()"
   ]
  },
  {
   "cell_type": "markdown",
   "id": "2e57433a-9461-4b6b-84af-c423907cc7d9",
   "metadata": {},
   "source": [
    "2) Do jednoho obrázku vykreslíte apriorní a aposteriorní prediktivní hustotou pozorovaní 𝑥 za jeden časový interval."
   ]
  },
  {
   "cell_type": "code",
   "execution_count": null,
   "id": "a4adc31f-c00b-43c2-a9ea-afac21915755",
   "metadata": {},
   "outputs": [],
   "source": [
    "# 2. Vykreslení apriorního a aposteriorního prediktivního rozdělení pozorovaní x:\n",
    "x_pred = np.arange(0, max(observed_data) + 1)\n",
    "prior_pred = poisson.pmf(x_pred, lambda_posterior_mean)\n",
    "posterior_pred = poisson.pmf(x_pred, lambda_posterior_mean)\n",
    "\n",
    "plt.bar(x_pred, prior_pred, label=\"Apriorní prediktivní\")\n",
    "plt.bar(x_pred, posterior_pred, label=\"Aposteriorní prediktivní\", alpha=0.5)\n",
    "plt.legend()\n",
    "plt.title(\"Apriorní a aposteriorní prediktivní rozdělení pozorovaní x\")\n",
    "plt.show()"
   ]
  },
  {
   "cell_type": "markdown",
   "id": "6cee0a8c-41cd-460e-83a8-e842c6ab6e9b",
   "metadata": {},
   "source": [
    "3) Sestrojte 95% interval spolehlivosti pro parametr 𝜆 z apriorního a aposteriorního rozdělení a porovnejte je."
   ]
  },
  {
   "cell_type": "code",
   "execution_count": null,
   "id": "1a70e046-a116-44ac-8b2e-2375db930ad1",
   "metadata": {},
   "outputs": [],
   "source": [
    "# 3. Sestrojení 95% intervalu spolehlivosti:\n",
    "prior_interval = gamma.interval(0.95, a_prior, scale=1/b_prior)\n",
    "posterior_interval = gamma.interval(0.95, a_posterior, scale=1/b_posterior)\n",
    "\n",
    "print(\"95% Apriorní interval:\", prior_interval)\n",
    "print(\"95% Aposteriorní interval:\", posterior_interval)"
   ]
  },
  {
   "cell_type": "markdown",
   "id": "111890d3-7a2c-4951-bcbd-d523f1561c8a",
   "metadata": {},
   "source": [
    "4) Vyberte si dva aposteriorní bodové odhady parametru 𝜆, porovnejte je a okomentujte jejich výběr."
   ]
  },
  {
   "cell_type": "code",
   "execution_count": null,
   "id": "32d1b0fe-5db2-4b6f-9198-aee28610824b",
   "metadata": {},
   "outputs": [],
   "source": [
    "# 4. Výběr a porovnání dvou aposteriorních bodových odhadů parametru λ:\n",
    "posterior_mode = (a_posterior - 1) / b_posterior\n",
    "posterior_mean = a_posterior / b_posterior"
   ]
  },
  {
   "cell_type": "markdown",
   "id": "7594a9f4-f9ed-4cc3-91a7-1c2f570b5bbc",
   "metadata": {},
   "source": [
    "\n",
    "\n",
    "\n",
    "5) Vyberte si jeden apriorní a jeden aposteriorní bodový odhad počtu pozorovaní a\n",
    "porovnejte je. "
   ]
  },
  {
   "cell_type": "code",
   "execution_count": null,
   "id": "2925eec6-e6d9-4ec4-85b7-937ea8336e58",
   "metadata": {},
   "outputs": [],
   "source": [
    "# 5. Výběr a porovnání jednoho apriorního a jednoho aposteriorního bodového odhadu počtu pozorovaní:\n",
    "prior_mode = (a_prior - 1) / b_prior\n",
    "prior_mean = a_prior / b_prior\n",
    "\n",
    "print(\"Apriorní mode:\", prior_mode)\n",
    "print(\"Apriorní mean:\", prior_mean)\n",
    "\n",
    "print(\"Aposteriorní mode:\", posterior_mode)\n",
    "print(\"Aposteriorní mean:\", posterior_mean)"
   ]
  },
  {
   "cell_type": "markdown",
   "id": "b8e442a0-898c-4eeb-9021-b762db1187cc",
   "metadata": {},
   "source": [
    "### b) Aproximace diskrétním rozdělením\n",
    "\n",
    "Integrál ve jmenovateli Bayesově větě je ve většině praktických aplikací důvodem, proč nejsme schopní odvodit aposteriorní hustotu analyticky. Jeden ze způsobů, jak překonat tento problém a odhadnout parametr (ne vektor parametrů) je, že zvolíme diskrétní aproximaci a neřešitelný integrál přejde na sumu.\n",
    "\n",
    "Poznámka:\n",
    "Nyní řešíme odhad aposteriorní hustoty a parametrů v případě, že apriorní informace (hustota) je ve formě naměřených hodnot (sloupec „uloha_1 b)_prior“) a rozdělení procesu, který sledujete, je také ve tvaru naměřených hodnot (sloupec „uloha_1 b)_pozorovania“). Tedy místo zadání dvou hustot máme naměřené hodnoty a s pomocí tříděného statistického souboru odhadneme hustoty. Pak se plocha pod hustotou spočítá součtem četností (obdoba numerického počítání integrálu obdélníkovou metodou).\n",
    "\n",
    "Víme, že délka zpracování procesu v milisekundách ms má odseknuté normální rozdělení (truncated normal distribution) s parametry\n",
    "𝜇 = 3, 𝜎\n",
    "2 = 1, 𝑎 = 1\n",
    "\n",
    "Naší úlohou je odhadnout parametr 𝑏, t.j. maximální dobu trvání procesu. Máme historické záznamy o jeho délce trvání (sloupec „uloha 1 a)_prior“) na počítačích podobné výkonové řady. Provedli jsme sérii pozorovaní po 10, číslo série pozorovaní v tabulce v sloupci „skupina“. Z těchto záznamů vyjádříte apriorní informaci o parametru 𝑏.\n",
    "\n",
    "Ve sloupci „uloha_1 b)_pozorovania“ jsou naše pozorování délky trvání procesu Vyjádřete funkci věrohodnosti (sloupec „uloha_1 b)_pozorovania“) (v tomto případe také jen její diskrétní aproximace) a následně diskrétní aposteriorní hustotu."
   ]
  },
  {
   "cell_type": "markdown",
   "id": "33d41986-8883-44a6-b89f-d2b9eeabb558",
   "metadata": {},
   "source": [
    "1) Do jednoho grafu vykreslíte apriorní, aposteriorní hustotou a funkci věrohodnosti.\n",
    "Funkci věrohodnosti normujte tak, aby jej součet byl 1 kvůli porovnatelnosti\n",
    "v obrázku."
   ]
  },
  {
   "cell_type": "markdown",
   "id": "0d0c7a25-bb96-4ae8-aa92-64c70e425701",
   "metadata": {},
   "source": [
    "- Tu sme mali viacero problémov. Prvý bol s tvorbou apriórneho rozdelenia pre parameter\n",
    "\"b\". Postup, ktorí väčšina z nás zvolila bol nasledujúci:\n",
    "V každej skupine (z 10 000 skupín, kde každá mala 10 nameraných hodnôt) sme našli\n",
    "najväčšiu hodnotu. Týchto 10 000 hodnôt sme dali do jednej dátovej sady a vytvorili sme z\n",
    "nich diskrétne rozdelenie. Toto diskrétne rozdelenie bolo urobené rozdelením všetkých 10\n",
    "000 hodnôt na intervaly. (Napríklad celý interval hodnôt rozdelíme na 50 intervalov o\n",
    "rovnakej šírke). Takto bolo získané (žlté) diskrétne apriórne rozdelenie uložené v obrázku\n",
    "\"output.png\" v prílohe tohto mailu. Každému intervalu vieme dať \"predstaviteľa\", t.j.\n",
    "napríklad stred daného intervalu. Týmto získame diskrétne rozdelenie, ktoré má 50 možných\n",
    "vstupov, t.j. 50 rôznych parametrov \"b\" (stredy intervalov) s rôznymi pravdepodobnosťami."
   ]
  },
  {
   "cell_type": "code",
   "execution_count": null,
   "id": "2ca29b5f-a179-4f5d-82ee-d35f21a85e7f",
   "metadata": {},
   "outputs": [],
   "source": []
  },
  {
   "cell_type": "markdown",
   "id": "097d7f6c-dd35-4b05-b524-157fedb427bb",
   "metadata": {},
   "source": [
    "2) Z aposteriorní hustoty určete 95% interval spolehlivosti (konfidenční interval) pro\n",
    "parametr 𝑏."
   ]
  },
  {
   "cell_type": "markdown",
   "id": "688b4861-b635-4325-8dbd-e38bd1d355da",
   "metadata": {},
   "source": [
    "2) Tvorba aposteriórneho rozdelenia je opísaná v obrázku \"rovnica.png\". Táto celá rovnica\n",
    "predstavuje výpočet aposteriórnej pravdepodobnosti pre 1 konkrétny parameter \"b\". Celkové\n",
    "aposteriórne rozdelenie je zobrazené na obrázku \"output.png\" červenou farbou. Výpočet\n",
    "funguje klasicky na základe bayesovského odhadu pre diskrétne rozdelenia a naše\n",
    "aposteriórne rozdelenie pre parameter \"b\" je:\n",
    "P(b_1 | x) = P(x | b_1) * h(b_1) / Σ( P(x | b_i) * h(b_i) )\n",
    "P(b_2 | x) = P(x | b_2) * h(b_2) / Σ( P(x | b_i) * h(b_i) )\n",
    "P(b_3 | x) = P(x | b_3) * h(b_3) / Σ( P(x | b_i) * h(b_i) )\n",
    "...\n",
    "P(b_50 | x) = P(x | b_50) * h(b_50) / Σ( P(x | b_i) * h(b_i) )\n",
    "Avšak, keďže my máme vektor dát D o dĺžke 100, musíme tieto rovnice upraviť:\n",
    "\n",
    "P(b_1 | D) = P(d_1 | b_1) * ... * P(d_100 | b_1) * h(b_1) / Σ( P(d_1 | b_i) * ... * P(d_100 |\n",
    "b_i) * h(b_i) )\n",
    "prepíšeme na kratší zápis:\n",
    "P(b_1 | D) = Π P(d_i | b_1) * h(b_1) / Σ_i( Π_j (d_j | b_i) * h(b_i) )\n",
    "P(b_2 | D) = Π P(d_i | b_2) * h(b_1) / Σ_i( Π_j (d_j | b_i) * h(b_i) )\n",
    "P(b_3 | D) = Π P(d_i | b_3) * h(b_1) / Σ_i( Π_j (d_j | b_i) * h(b_i) )\n",
    "...\n",
    "P(b_50 | D) = Π P(d_i | b_50) * h(b_1) / Σ_i( Π_j (d_j | b_i) * h(b_i) )\n",
    "Otázka je:\n",
    "Je správne povedať, že tieto funkcie dokopy tvoria jedno finálne aposteriórne rozdelenie (v\n",
    "output.png červená)?\n",
    "P(b_1 | D), P(b_2 | D), P(b_3 | D), ..., P(b_50 | D)\n",
    "Je správne povedať, že tieto funkcie dokopy tvoria jednu finálnu vierohodnostnú funkciu (v\n",
    "output.png modrá)?\n",
    "Π P(d_i | b_1), Π P(d_i | b_2), Π P(d_i | b_3), ..., Π P(d_i | b_50)"
   ]
  },
  {
   "cell_type": "markdown",
   "id": "065acac2-0be0-4d3b-a351-96262b056e89",
   "metadata": {},
   "source": [
    "3) Vyberte dva bodové odhady parametru 𝑏 a spočítejte je."
   ]
  },
  {
   "cell_type": "code",
   "execution_count": null,
   "id": "ad1297df-c872-4ed9-9d03-ab555242446e",
   "metadata": {},
   "outputs": [],
   "source": []
  },
  {
   "cell_type": "markdown",
   "id": "f14eb254-ae63-4357-b384-291194c5b9da",
   "metadata": {},
   "source": [
    "## Regrese - úloha 2"
   ]
  },
  {
   "cell_type": "markdown",
   "id": "3f897a7f-2a8e-42fd-a85f-32421a414dbd",
   "metadata": {},
   "source": [
    "Disclaimer: data (včetně „příběhu“) jsou vygenerovaná a nemusí mít dobrý obraz v realitě. Berte proto prosím výsledky z regrese s „rezervou“. Díky.\n",
    "\n",
    "Podařilo se Vám pomocí stroje času vrátit do doby „zlatého věku“ sociálních sítí a rozhodli jste se konkurovat Facebooku a Twitteru. V souboru Data_v1.0.csv máte k dispozici záznamy od více než 500 uživatelů o rychlosti odezvy (sloupec ping [ms]) během používání Vaší aplikace. Ke každému zápisu máte navíc k dispozici o počtu uživatelů (sloupec ActiveUsers) v daném okamžiku, o procentu uživatelů, kteří momentálně interagují s prezentovaným obsahem (sloupec InteractingPct), o procentu uživatelů, kteří jen tupě scrollují po Vaší obdobě timeline/twitterfeedu (sloupec ScrollingPct) a o operačním systému zařízení ze kterého se uživatel připojil (OSType)."
   ]
  },
  {
   "cell_type": "markdown",
   "id": "7ed6b994-d624-4af6-b7de-4fe5b10eb36e",
   "metadata": {},
   "source": [
    "1) Pomocí zpětné eliminace určete vhodný regresní model. Za výchozí „plný“ model\n",
    "považujte plný kvadratický model (všechny interakce druhého řádu a všechny druhé\n",
    "mocniny, které dávají smysl).\n",
    "- Zapište rovnici Vašeho finálního modelu.\n",
    "- Diskutujte splnění předpokladů lineární regrese a základní regresní\n",
    "diagnostiky.\n",
    "- Pokud (až během regresního modelování) identifikujete některé „extrémně\n",
    "odlehlé hodnoty“ můžete ty „nejodlehlejší“ hodnoty, po alespoň krátkém\n",
    "zdůvodnění, vyřadit."
   ]
  },
  {
   "cell_type": "markdown",
   "id": "3a4b6f2f-5eb9-451f-a72c-8b4934adb604",
   "metadata": {},
   "source": [
    "Modelovaná data:"
   ]
  },
  {
   "cell_type": "code",
   "execution_count": 68,
   "id": "bcc2fdd8-00ba-49fa-b7ec-317ad667b5c2",
   "metadata": {},
   "outputs": [
    {
     "name": "stdout",
     "output_type": "stream",
     "text": [
      "      OSType  ActiveUsers  InteractingPct  ScrollingPct  Ping [ms]\n",
      "0        iOS         4113          0.8283        0.1717         47\n",
      "1        iOS         7549          0.3461        0.6539         46\n",
      "2    Windows         8855          0.2178        0.7822         55\n",
      "3    Android         8870          0.0794        0.9206         56\n",
      "4      MacOS         9559          0.7282        0.2718         76\n",
      "..       ...          ...             ...           ...        ...\n",
      "497      iOS         5315          0.1974        0.8026         28\n",
      "498    MacOS         1392          0.2373        0.7627         24\n",
      "499      iOS         6014          0.8112        0.1888         54\n",
      "500  Android         5118          0.2345        0.7655         39\n",
      "501    MacOS         2660          0.9390        0.0610         55\n",
      "\n",
      "[502 rows x 5 columns]\n"
     ]
    }
   ],
   "source": [
    "# load data to df dataframe\n",
    "df = pd.read_csv('Data_v1.0.csv')\n",
    "\n",
    "# print dataframe\n",
    "print(df)"
   ]
  },
  {
   "cell_type": "markdown",
   "id": "cb76c563-9dab-4ad7-8b6b-a8801e7657ef",
   "metadata": {},
   "source": [
    "V datech se vyskytuje kategorická proměnná, OSType. Pomocí one-hot encoding z ní vytvoříme numerické proměnné. "
   ]
  },
  {
   "cell_type": "code",
   "execution_count": 69,
   "id": "4af316d5-1e85-4917-8716-cc3fdf759a7c",
   "metadata": {},
   "outputs": [
    {
     "name": "stdout",
     "output_type": "stream",
     "text": [
      "     ActiveUsers  InteractingPct  ScrollingPct  Ping [ms]  OSType_MacOS  \\\n",
      "0           4113          0.8283        0.1717         47           0.0   \n",
      "1           7549          0.3461        0.6539         46           0.0   \n",
      "2           8855          0.2178        0.7822         55           0.0   \n",
      "3           8870          0.0794        0.9206         56           0.0   \n",
      "4           9559          0.7282        0.2718         76           1.0   \n",
      "..           ...             ...           ...        ...           ...   \n",
      "497         5315          0.1974        0.8026         28           0.0   \n",
      "498         1392          0.2373        0.7627         24           1.0   \n",
      "499         6014          0.8112        0.1888         54           0.0   \n",
      "500         5118          0.2345        0.7655         39           0.0   \n",
      "501         2660          0.9390        0.0610         55           1.0   \n",
      "\n",
      "     OSType_Windows  OSType_iOS  \n",
      "0               0.0         1.0  \n",
      "1               0.0         1.0  \n",
      "2               1.0         0.0  \n",
      "3               0.0         0.0  \n",
      "4               0.0         0.0  \n",
      "..              ...         ...  \n",
      "497             0.0         1.0  \n",
      "498             0.0         0.0  \n",
      "499             0.0         1.0  \n",
      "500             0.0         0.0  \n",
      "501             0.0         0.0  \n",
      "\n",
      "[502 rows x 7 columns]\n"
     ]
    }
   ],
   "source": [
    "# perform one-hot encoding for the column OSType\n",
    "df = pd.get_dummies(df, columns=['OSType'], prefix='OSType', drop_first=True)\n",
    "\n",
    "# convert bool to int\n",
    "for column in df.columns:\n",
    "    if df[column].dtype == bool:\n",
    "        df[column] = df[column].astype(float)\n",
    "\n",
    "# print the converted dataframe\n",
    "print(df)"
   ]
  },
  {
   "cell_type": "markdown",
   "id": "9ea32459-ce8b-4a3e-b03b-638faff25781",
   "metadata": {},
   "source": [
    "Nyní zajistíme, že se mezi modelovanými daty nevyskytuje lineární závislost. To zjistíme pomocí matice korelace."
   ]
  },
  {
   "cell_type": "code",
   "execution_count": 75,
   "id": "a9637cad-e288-4359-a240-bae5802a50a0",
   "metadata": {},
   "outputs": [
    {
     "name": "stdout",
     "output_type": "stream",
     "text": [
      "                ActiveUsers  InteractingPct  Ping [ms]  OSType_MacOS  \\\n",
      "ActiveUsers        1.000000        0.040275   0.693499     -0.000136   \n",
      "InteractingPct     0.040275        1.000000   0.406957      0.086466   \n",
      "Ping [ms]          0.693499        0.406957   1.000000      0.333107   \n",
      "OSType_MacOS      -0.000136        0.086466   0.333107      1.000000   \n",
      "OSType_Windows     0.003135       -0.016964   0.047783     -0.371550   \n",
      "OSType_iOS        -0.063206       -0.062634  -0.360491     -0.341322   \n",
      "\n",
      "                OSType_Windows  OSType_iOS  \n",
      "ActiveUsers           0.003135   -0.063206  \n",
      "InteractingPct       -0.016964   -0.062634  \n",
      "Ping [ms]             0.047783   -0.360491  \n",
      "OSType_MacOS         -0.371550   -0.341322  \n",
      "OSType_Windows        1.000000   -0.334506  \n",
      "OSType_iOS           -0.334506    1.000000  \n"
     ]
    }
   ],
   "source": [
    "# calculate the correlation matrix\n",
    "corr_matrix = df.corr()\n",
    "print(corr_matrix)"
   ]
  },
  {
   "cell_type": "markdown",
   "id": "af083261-e919-46c6-9ca2-392c4762449a",
   "metadata": {},
   "source": [
    "Z korelační matice je vidět, že v datech je lineární závislost mezi proměnnými InteractingPct a ScrollingPct. Odstraníme tedy jednu z těchto proměnných, například proměnnou ScrollingPct. Mezi jinými proměnnými není tak vysoká závislost a proto všechny zbývající proměnné ponecháme."
   ]
  },
  {
   "cell_type": "code",
   "execution_count": 72,
   "id": "bd53c486-e4ed-4e13-bff5-2fd33a1108ef",
   "metadata": {},
   "outputs": [
    {
     "name": "stdout",
     "output_type": "stream",
     "text": [
      "     ActiveUsers  InteractingPct  Ping [ms]  OSType_MacOS  OSType_Windows  \\\n",
      "0           4113          0.8283         47           0.0             0.0   \n",
      "1           7549          0.3461         46           0.0             0.0   \n",
      "2           8855          0.2178         55           0.0             1.0   \n",
      "3           8870          0.0794         56           0.0             0.0   \n",
      "4           9559          0.7282         76           1.0             0.0   \n",
      "..           ...             ...        ...           ...             ...   \n",
      "497         5315          0.1974         28           0.0             0.0   \n",
      "498         1392          0.2373         24           1.0             0.0   \n",
      "499         6014          0.8112         54           0.0             0.0   \n",
      "500         5118          0.2345         39           0.0             0.0   \n",
      "501         2660          0.9390         55           1.0             0.0   \n",
      "\n",
      "     OSType_iOS  \n",
      "0           1.0  \n",
      "1           1.0  \n",
      "2           0.0  \n",
      "3           0.0  \n",
      "4           0.0  \n",
      "..          ...  \n",
      "497         1.0  \n",
      "498         0.0  \n",
      "499         1.0  \n",
      "500         0.0  \n",
      "501         0.0  \n",
      "\n",
      "[502 rows x 6 columns]\n"
     ]
    }
   ],
   "source": [
    "# drop ScrollingPct column\n",
    "df.drop(['ScrollingPct'], axis=1, inplace=True)\n",
    "print(df)"
   ]
  },
  {
   "cell_type": "markdown",
   "id": "d70f5faf-ce37-47d4-bcc7-0c5c4e8418f0",
   "metadata": {},
   "source": [
    "TODO nějaké jiné předpoklady před děláním regresního modelu???"
   ]
  },
  {
   "cell_type": "markdown",
   "id": "6fdcc8bf-1dc7-461c-aad0-ca716ce52ef0",
   "metadata": {},
   "source": [
    "Nyní můžeme vytvořit plný kvadratický model. Ten tedy obsahuje všechny interakce druhého řádu, kromě interakcí původních kategorických atributů mezi sebou, a všechny mocniny druhého řádu, kromě druhých mocnin původních kategorických atributů - ty nemají smysl. \n",
    "\n",
    "Výchozí kvadratický model:  \n",
    "$Ping = \\alpha*ActiveUsers + \\beta*InteractingPct + \\gamma*OSType\\_MacOS + \\delta*OSType\\_Windows + \\zeta*OSType\\_iOS + \\eta*ActiveUsers*InteractingPct + \\theta*ActiveUsers*OSType\\_MacOS + \\iota*ActiveUsers*OSType\\_Windows + \\kappa*ActiveUsers*OSType\\_iOS + \\lambda*InteractingPct*OSType\\_MacOS + \\mu*InteractingPct*OSType\\_Windows + \\nu*InteractingPct*OSType\\_iOS + \\xi*ActiveUsers^2 + \\omicron*InteractingPct^2 + \\epsilon$\n",
    "kde $\\alpha, \\beta, \\gamma, \\delta, \\zeta, \\eta, \\theta, \\iota, \\kappa, \\lambda, \\mu, \\nu, \\xi, \\omicron$ jsou koeficienty jednotlivých proměnných.\n",
    "\n",
    "Pro tento model vypočteme jednotlivé charakteristiky:"
   ]
  },
  {
   "cell_type": "code",
   "execution_count": 74,
   "id": "cb7120af-ea0f-4dbf-8562-8524f0d3639c",
   "metadata": {},
   "outputs": [
    {
     "name": "stdout",
     "output_type": "stream",
     "text": [
      "                            OLS Regression Results                            \n",
      "==============================================================================\n",
      "Dep. Variable:         Q(\"Ping [ms]\")   R-squared:                       0.844\n",
      "Model:                            OLS   Adj. R-squared:                  0.839\n",
      "Method:                 Least Squares   F-statistic:                     187.9\n",
      "Date:                Sun, 10 Dec 2023   Prob (F-statistic):          5.18e-186\n",
      "Time:                        16:16:01   Log-Likelihood:                -1598.4\n",
      "No. Observations:                 502   AIC:                             3227.\n",
      "Df Residuals:                     487   BIC:                             3290.\n",
      "Df Model:                          14                                         \n",
      "Covariance Type:            nonrobust                                         \n",
      "=================================================================================================\n",
      "                                    coef    std err          t      P>|t|      [0.025      0.975]\n",
      "-------------------------------------------------------------------------------------------------\n",
      "Intercept                        -0.3388      2.354     -0.144      0.886      -4.965       4.287\n",
      "ActiveUsers                       0.0100      0.001     17.571      0.000       0.009       0.011\n",
      "InteractingPct                   37.6062      4.567      8.234      0.000      28.633      46.580\n",
      "OSType_MacOS                      2.0017      2.260      0.886      0.376      -2.440       6.443\n",
      "OSType_Windows                    7.8174      2.217      3.526      0.000       3.461      12.174\n",
      "OSType_iOS                       -0.0483      2.265     -0.021      0.983      -4.499       4.403\n",
      "ActiveUsers:InteractingPct       -0.0031      0.000     -8.532      0.000      -0.004      -0.002\n",
      "ActiveUsers:OSType_MacOS          0.0014      0.000      4.536      0.000       0.001       0.002\n",
      "ActiveUsers:OSType_Windows       -0.0008      0.000     -2.505      0.013      -0.001      -0.000\n",
      "ActiveUsers:OSType_iOS           -0.0011      0.000     -3.369      0.001      -0.002      -0.000\n",
      "InteractingPct:OSType_MacOS      -0.3566      2.530     -0.141      0.888      -5.327       4.614\n",
      "InteractingPct:OSType_Windows     0.4260      2.721      0.157      0.876      -4.919       5.771\n",
      "InteractingPct:OSType_iOS         0.2678      2.691      0.100      0.921      -5.020       5.556\n",
      "I(ActiveUsers ** 2)            -4.17e-07    4.4e-08     -9.469      0.000   -5.03e-07    -3.3e-07\n",
      "I(InteractingPct ** 2)           -3.7258      3.492     -1.067      0.287     -10.587       3.135\n",
      "==============================================================================\n",
      "Omnibus:                      228.442   Durbin-Watson:                   1.933\n",
      "Prob(Omnibus):                  0.000   Jarque-Bera (JB):             3152.488\n",
      "Skew:                           1.603   Prob(JB):                         0.00\n",
      "Kurtosis:                      14.851   Cond. No.                     1.06e+09\n",
      "==============================================================================\n",
      "\n",
      "Notes:\n",
      "[1] Standard Errors assume that the covariance matrix of the errors is correctly specified.\n",
      "[2] The condition number is large, 1.06e+09. This might indicate that there are\n",
      "strong multicollinearity or other numerical problems.\n"
     ]
    }
   ],
   "source": [
    "# full quadratic model\n",
    "formula_x_y = 'ActiveUsers + InteractingPct + OSType_MacOS + OSType_Windows + OSType_iOS'\n",
    "formula_xy = 'ActiveUsers:InteractingPct + ActiveUsers:OSType_MacOS + ActiveUsers:OSType_Windows + ActiveUsers:OSType_iOS + InteractingPct:OSType_MacOS + InteractingPct:OSType_Windows + InteractingPct:OSType_iOS'\n",
    "formula_x2_y2 = 'I(ActiveUsers**2) + I(InteractingPct**2)'\n",
    "formula = 'Q(\"Ping [ms]\") ~ ' + formula_x_y + ' + ' + formula_xy + ' + ' + formula_x2_y2\n",
    "\n",
    "model = smf.ols(formula=formula, data=df)\n",
    "results = model.fit()\n",
    "print(results.summary())"
   ]
  },
  {
   "cell_type": "markdown",
   "id": "e0be6438-8ca8-481c-b24f-2092d5c5afc9",
   "metadata": {},
   "source": [
    "Z výše uvedeného, výchozího plného kvadratického modelu je vidět, že nejvyšší p-hodnotu má proměnná OSType_iOS. Z modelu ji tedy vypustíme a přepočteme celou regresi znovu."
   ]
  },
  {
   "cell_type": "code",
   "execution_count": 77,
   "id": "d106baf4-9150-455c-9ecb-b92d9771dc69",
   "metadata": {},
   "outputs": [
    {
     "name": "stdout",
     "output_type": "stream",
     "text": [
      "                            OLS Regression Results                            \n",
      "==============================================================================\n",
      "Dep. Variable:         Q(\"Ping [ms]\")   R-squared:                       0.844\n",
      "Model:                            OLS   Adj. R-squared:                  0.840\n",
      "Method:                 Least Squares   F-statistic:                     202.8\n",
      "Date:                Sun, 10 Dec 2023   Prob (F-statistic):          3.57e-187\n",
      "Time:                        16:18:16   Log-Likelihood:                -1598.4\n",
      "No. Observations:                 502   AIC:                             3225.\n",
      "Df Residuals:                     488   BIC:                             3284.\n",
      "Df Model:                          13                                         \n",
      "Covariance Type:            nonrobust                                         \n",
      "=================================================================================================\n",
      "                                    coef    std err          t      P>|t|      [0.025      0.975]\n",
      "-------------------------------------------------------------------------------------------------\n",
      "Intercept                        -0.3714      1.793     -0.207      0.836      -3.894       3.151\n",
      "ActiveUsers                       0.0100      0.001     18.742      0.000       0.009       0.011\n",
      "InteractingPct                   37.6338      4.375      8.603      0.000      29.038      46.229\n",
      "OSType_MacOS                      2.0290      1.863      1.089      0.277      -1.632       5.690\n",
      "OSType_Windows                    7.8447      1.810      4.335      0.000       4.289      11.400\n",
      "ActiveUsers:InteractingPct       -0.0031      0.000     -8.590      0.000      -0.004      -0.002\n",
      "ActiveUsers:OSType_MacOS          0.0014      0.000      5.017      0.000       0.001       0.002\n",
      "ActiveUsers:OSType_Windows       -0.0008      0.000     -2.796      0.005      -0.001      -0.000\n",
      "ActiveUsers:OSType_iOS           -0.0011      0.000     -5.155      0.000      -0.001      -0.001\n",
      "InteractingPct:OSType_MacOS      -0.3729      2.408     -0.155      0.877      -5.104       4.358\n",
      "InteractingPct:OSType_Windows     0.4095      2.605      0.157      0.875      -4.709       5.528\n",
      "InteractingPct:OSType_iOS         0.2368      2.262      0.105      0.917      -4.208       4.682\n",
      "I(ActiveUsers ** 2)           -4.171e-07   4.38e-08     -9.524      0.000   -5.03e-07   -3.31e-07\n",
      "I(InteractingPct ** 2)           -3.7327      3.473     -1.075      0.283     -10.557       3.092\n",
      "==============================================================================\n",
      "Omnibus:                      228.481   Durbin-Watson:                   1.933\n",
      "Prob(Omnibus):                  0.000   Jarque-Bera (JB):             3153.673\n",
      "Skew:                           1.603   Prob(JB):                         0.00\n",
      "Kurtosis:                      14.853   Cond. No.                     9.61e+08\n",
      "==============================================================================\n",
      "\n",
      "Notes:\n",
      "[1] Standard Errors assume that the covariance matrix of the errors is correctly specified.\n",
      "[2] The condition number is large, 9.61e+08. This might indicate that there are\n",
      "strong multicollinearity or other numerical problems.\n"
     ]
    }
   ],
   "source": [
    "# drop the OSType_iOS variable\n",
    "formula_x_y = 'ActiveUsers + InteractingPct + OSType_MacOS + OSType_Windows'\n",
    "formula_xy = 'ActiveUsers:InteractingPct + ActiveUsers:OSType_MacOS + ActiveUsers:OSType_Windows + ActiveUsers:OSType_iOS + InteractingPct:OSType_MacOS + InteractingPct:OSType_Windows + InteractingPct:OSType_iOS'\n",
    "formula_x2_y2 = 'I(ActiveUsers**2) + I(InteractingPct**2)'\n",
    "formula = 'Q(\"Ping [ms]\") ~ ' + formula_x_y + ' + ' + formula_xy + ' + ' + formula_x2_y2\n",
    "\n",
    "model = smf.ols(formula=formula, data=df)\n",
    "results = model.fit()\n",
    "print(results.summary())"
   ]
  },
  {
   "cell_type": "markdown",
   "id": "066c60de-e018-45cf-b3ca-ec8813020a12",
   "metadata": {},
   "source": [
    "Z nově přepočteného modelu lze vyčíst, že se zde stále objevují proměnné, které mají p-hodnotu vyšší než 0.05. Proto vypustíme tu proměnnou, která má nejvyšší p-hodnotu - proměnnou InteractingPct*OSType_iOS."
   ]
  },
  {
   "cell_type": "code",
   "execution_count": 79,
   "id": "7a8906d0-ffe8-4854-8e99-2159bd0cebe0",
   "metadata": {},
   "outputs": [
    {
     "name": "stdout",
     "output_type": "stream",
     "text": [
      "                            OLS Regression Results                            \n",
      "==============================================================================\n",
      "Dep. Variable:         Q(\"Ping [ms]\")   R-squared:                       0.844\n",
      "Model:                            OLS   Adj. R-squared:                  0.840\n",
      "Method:                 Least Squares   F-statistic:                     220.1\n",
      "Date:                Sun, 10 Dec 2023   Prob (F-statistic):          2.36e-188\n",
      "Time:                        16:19:27   Log-Likelihood:                -1598.4\n",
      "No. Observations:                 502   AIC:                             3223.\n",
      "Df Residuals:                     489   BIC:                             3278.\n",
      "Df Model:                          12                                         \n",
      "Covariance Type:            nonrobust                                         \n",
      "=================================================================================================\n",
      "                                    coef    std err          t      P>|t|      [0.025      0.975]\n",
      "-------------------------------------------------------------------------------------------------\n",
      "Intercept                        -0.3703      1.791     -0.207      0.836      -3.889       3.149\n",
      "ActiveUsers                       0.0100      0.001     19.067      0.000       0.009       0.011\n",
      "InteractingPct                   37.7781      4.148      9.108      0.000      29.628      45.928\n",
      "OSType_MacOS                      2.0221      1.860      1.087      0.278      -1.633       5.677\n",
      "OSType_Windows                    7.8395      1.807      4.338      0.000       4.289      11.390\n",
      "ActiveUsers:InteractingPct       -0.0031      0.000     -8.657      0.000      -0.004      -0.002\n",
      "ActiveUsers:OSType_MacOS          0.0014      0.000      5.392      0.000       0.001       0.002\n",
      "ActiveUsers:OSType_Windows       -0.0008      0.000     -2.941      0.003      -0.001      -0.000\n",
      "ActiveUsers:OSType_iOS           -0.0010      0.000     -8.061      0.000      -0.001      -0.001\n",
      "InteractingPct:OSType_MacOS      -0.4989      2.084     -0.239      0.811      -4.593       3.595\n",
      "InteractingPct:OSType_Windows     0.2836      2.308      0.123      0.902      -4.252       4.819\n",
      "I(ActiveUsers ** 2)           -4.168e-07   4.37e-08     -9.539      0.000   -5.03e-07   -3.31e-07\n",
      "I(InteractingPct ** 2)           -3.7301      3.470     -1.075      0.283     -10.547       3.087\n",
      "==============================================================================\n",
      "Omnibus:                      228.487   Durbin-Watson:                   1.933\n",
      "Prob(Omnibus):                  0.000   Jarque-Bera (JB):             3154.636\n",
      "Skew:                           1.603   Prob(JB):                         0.00\n",
      "Kurtosis:                      14.855   Cond. No.                     9.26e+08\n",
      "==============================================================================\n",
      "\n",
      "Notes:\n",
      "[1] Standard Errors assume that the covariance matrix of the errors is correctly specified.\n",
      "[2] The condition number is large, 9.26e+08. This might indicate that there are\n",
      "strong multicollinearity or other numerical problems.\n"
     ]
    }
   ],
   "source": [
    "# drop the InteractingPct*OSType_iOS variable\n",
    "formula_x_y = 'ActiveUsers + InteractingPct + OSType_MacOS + OSType_Windows'\n",
    "formula_xy = 'ActiveUsers:InteractingPct + ActiveUsers:OSType_MacOS + ActiveUsers:OSType_Windows + ActiveUsers:OSType_iOS + InteractingPct:OSType_MacOS + InteractingPct:OSType_Windows'\n",
    "formula_x2_y2 = 'I(ActiveUsers**2) + I(InteractingPct**2)'\n",
    "formula = 'Q(\"Ping [ms]\") ~ ' + formula_x_y + ' + ' + formula_xy + ' + ' + formula_x2_y2\n",
    "\n",
    "model = smf.ols(formula=formula, data=df)\n",
    "results = model.fit()\n",
    "print(results.summary())"
   ]
  },
  {
   "cell_type": "markdown",
   "id": "f6009a6b-6731-4cdf-b9f2-fd1ea96a4438",
   "metadata": {},
   "source": [
    "Z přepočítaného modelu je opět vidět, že se zde stále vyskytují proměnné s p-hodnotami vyššími než 0.05. Nyní tedy odstraníme proměnnou InteractingPct*OSType_iOS."
   ]
  },
  {
   "cell_type": "code",
   "execution_count": 80,
   "id": "14dc65b2-c265-472d-9e19-18ee52857aa5",
   "metadata": {},
   "outputs": [
    {
     "name": "stdout",
     "output_type": "stream",
     "text": [
      "                            OLS Regression Results                            \n",
      "==============================================================================\n",
      "Dep. Variable:         Q(\"Ping [ms]\")   R-squared:                       0.844\n",
      "Model:                            OLS   Adj. R-squared:                  0.840\n",
      "Method:                 Least Squares   F-statistic:                     240.6\n",
      "Date:                Sun, 10 Dec 2023   Prob (F-statistic):          1.50e-189\n",
      "Time:                        16:20:24   Log-Likelihood:                -1598.4\n",
      "No. Observations:                 502   AIC:                             3221.\n",
      "Df Residuals:                     490   BIC:                             3271.\n",
      "Df Model:                          11                                         \n",
      "Covariance Type:            nonrobust                                         \n",
      "===============================================================================================\n",
      "                                  coef    std err          t      P>|t|      [0.025      0.975]\n",
      "-----------------------------------------------------------------------------------------------\n",
      "Intercept                      -0.4127      1.756     -0.235      0.814      -3.862       3.037\n",
      "ActiveUsers                     0.0100      0.001     19.086      0.000       0.009       0.011\n",
      "InteractingPct                 37.8763      4.066      9.315      0.000      29.887      45.865\n",
      "OSType_MacOS                    2.0635      1.828      1.129      0.259      -1.528       5.655\n",
      "OSType_Windows                  7.9604      1.514      5.258      0.000       4.985      10.935\n",
      "ActiveUsers:InteractingPct     -0.0031      0.000     -8.669      0.000      -0.004      -0.002\n",
      "ActiveUsers:OSType_MacOS        0.0014      0.000      5.401      0.000       0.001       0.002\n",
      "ActiveUsers:OSType_Windows     -0.0008      0.000     -2.944      0.003      -0.001      -0.000\n",
      "ActiveUsers:OSType_iOS         -0.0010      0.000     -8.068      0.000      -0.001      -0.001\n",
      "InteractingPct:OSType_MacOS    -0.5925      1.938     -0.306      0.760      -4.399       3.214\n",
      "I(ActiveUsers ** 2)         -4.168e-07   4.37e-08     -9.548      0.000   -5.03e-07   -3.31e-07\n",
      "I(InteractingPct ** 2)         -3.7303      3.466     -1.076      0.282     -10.541       3.080\n",
      "==============================================================================\n",
      "Omnibus:                      228.480   Durbin-Watson:                   1.932\n",
      "Prob(Omnibus):                  0.000   Jarque-Bera (JB):             3153.948\n",
      "Skew:                           1.603   Prob(JB):                         0.00\n",
      "Kurtosis:                      14.853   Cond. No.                     9.14e+08\n",
      "==============================================================================\n",
      "\n",
      "Notes:\n",
      "[1] Standard Errors assume that the covariance matrix of the errors is correctly specified.\n",
      "[2] The condition number is large, 9.14e+08. This might indicate that there are\n",
      "strong multicollinearity or other numerical problems.\n"
     ]
    }
   ],
   "source": [
    "# drop the InteractingPct*OSType_Windows variable\n",
    "formula_x_y = 'ActiveUsers + InteractingPct + OSType_MacOS + OSType_Windows'\n",
    "formula_xy = 'ActiveUsers:InteractingPct + ActiveUsers:OSType_MacOS + ActiveUsers:OSType_Windows + ActiveUsers:OSType_iOS + InteractingPct:OSType_MacOS'\n",
    "formula_x2_y2 = 'I(ActiveUsers**2) + I(InteractingPct**2)'\n",
    "formula = 'Q(\"Ping [ms]\") ~ ' + formula_x_y + ' + ' + formula_xy + ' + ' + formula_x2_y2\n",
    "\n",
    "model = smf.ols(formula=formula, data=df)\n",
    "results = model.fit()\n",
    "print(results.summary())"
   ]
  },
  {
   "cell_type": "markdown",
   "id": "672498c5-a7ce-489f-be36-df308376d0a2",
   "metadata": {},
   "source": [
    "Dále vypustíme proměnnou InteractingPct*OSType_MacOS a přepočteme jej."
   ]
  },
  {
   "cell_type": "code",
   "execution_count": 83,
   "id": "4459131e-56df-46e1-a791-60d1241b3e8f",
   "metadata": {},
   "outputs": [
    {
     "name": "stdout",
     "output_type": "stream",
     "text": [
      "                            OLS Regression Results                            \n",
      "==============================================================================\n",
      "Dep. Variable:         Q(\"Ping [ms]\")   R-squared:                       0.844\n",
      "Model:                            OLS   Adj. R-squared:                  0.841\n",
      "Method:                 Least Squares   F-statistic:                     265.2\n",
      "Date:                Sun, 10 Dec 2023   Prob (F-statistic):          9.41e-191\n",
      "Time:                        16:21:25   Log-Likelihood:                -1598.5\n",
      "No. Observations:                 502   AIC:                             3219.\n",
      "Df Residuals:                     491   BIC:                             3265.\n",
      "Df Model:                          10                                         \n",
      "Covariance Type:            nonrobust                                         \n",
      "==============================================================================================\n",
      "                                 coef    std err          t      P>|t|      [0.025      0.975]\n",
      "----------------------------------------------------------------------------------------------\n",
      "Intercept                     -0.3369      1.736     -0.194      0.846      -3.749       3.075\n",
      "ActiveUsers                    0.0100      0.001     19.112      0.000       0.009       0.011\n",
      "InteractingPct                37.7205      4.030      9.360      0.000      29.802      45.639\n",
      "OSType_MacOS                   1.7623      1.538      1.146      0.252      -1.260       4.784\n",
      "OSType_Windows                 7.9544      1.513      5.259      0.000       4.983      10.926\n",
      "ActiveUsers:InteractingPct    -0.0031      0.000     -8.674      0.000      -0.004      -0.002\n",
      "ActiveUsers:OSType_MacOS       0.0014      0.000      5.404      0.000       0.001       0.002\n",
      "ActiveUsers:OSType_Windows    -0.0008      0.000     -2.943      0.003      -0.001      -0.000\n",
      "ActiveUsers:OSType_iOS        -0.0010      0.000     -8.084      0.000      -0.001      -0.001\n",
      "I(ActiveUsers ** 2)         -4.17e-07   4.36e-08     -9.563      0.000   -5.03e-07   -3.31e-07\n",
      "I(InteractingPct ** 2)        -3.7675      3.461     -1.089      0.277     -10.567       3.032\n",
      "==============================================================================\n",
      "Omnibus:                      229.699   Durbin-Watson:                   1.933\n",
      "Prob(Omnibus):                  0.000   Jarque-Bera (JB):             3207.912\n",
      "Skew:                           1.611   Prob(JB):                         0.00\n",
      "Kurtosis:                      14.958   Cond. No.                     9.12e+08\n",
      "==============================================================================\n",
      "\n",
      "Notes:\n",
      "[1] Standard Errors assume that the covariance matrix of the errors is correctly specified.\n",
      "[2] The condition number is large, 9.12e+08. This might indicate that there are\n",
      "strong multicollinearity or other numerical problems.\n"
     ]
    }
   ],
   "source": [
    "# drop the InteractingPct*OSType_MacOS variable\n",
    "formula_x_y = 'ActiveUsers + InteractingPct + OSType_MacOS + OSType_Windows'\n",
    "formula_xy = 'ActiveUsers:InteractingPct + ActiveUsers:OSType_MacOS + ActiveUsers:OSType_Windows + ActiveUsers:OSType_iOS'\n",
    "formula_x2_y2 = 'I(ActiveUsers**2) + I(InteractingPct**2)'\n",
    "formula = 'Q(\"Ping [ms]\") ~ ' + formula_x_y + ' + ' + formula_xy + ' + ' + formula_x2_y2\n",
    "\n",
    "model = smf.ols(formula=formula, data=df)\n",
    "results = model.fit()\n",
    "print(results.summary())"
   ]
  },
  {
   "cell_type": "markdown",
   "id": "edbc492b-f24c-42c4-8c10-a68e072b1790",
   "metadata": {},
   "source": [
    "Dále z regresního modelu vypustíme proměnnou $Interacting^2$ a přepočítáme jej."
   ]
  },
  {
   "cell_type": "code",
   "execution_count": 85,
   "id": "bbf8ad0e-21b3-48aa-85ce-e33ac8bc5f4b",
   "metadata": {},
   "outputs": [
    {
     "name": "stdout",
     "output_type": "stream",
     "text": [
      "                            OLS Regression Results                            \n",
      "==============================================================================\n",
      "Dep. Variable:         Q(\"Ping [ms]\")   R-squared:                       0.843\n",
      "Model:                            OLS   Adj. R-squared:                  0.841\n",
      "Method:                 Least Squares   F-statistic:                     294.4\n",
      "Date:                Sun, 10 Dec 2023   Prob (F-statistic):          9.61e-192\n",
      "Time:                        16:22:13   Log-Likelihood:                -1599.1\n",
      "No. Observations:                 502   AIC:                             3218.\n",
      "Df Residuals:                     492   BIC:                             3260.\n",
      "Df Model:                           9                                         \n",
      "Covariance Type:            nonrobust                                         \n",
      "==============================================================================================\n",
      "                                 coef    std err          t      P>|t|      [0.025      0.975]\n",
      "----------------------------------------------------------------------------------------------\n",
      "Intercept                      0.2577      1.649      0.156      0.876      -2.981       3.497\n",
      "ActiveUsers                    0.0100      0.001     19.101      0.000       0.009       0.011\n",
      "InteractingPct                33.9892      2.120     16.030      0.000      29.823      38.155\n",
      "OSType_MacOS                   1.6826      1.537      1.095      0.274      -1.337       4.702\n",
      "OSType_Windows                 7.9718      1.513      5.270      0.000       5.000      10.944\n",
      "ActiveUsers:InteractingPct    -0.0031      0.000     -8.677      0.000      -0.004      -0.002\n",
      "ActiveUsers:OSType_MacOS       0.0014      0.000      5.430      0.000       0.001       0.002\n",
      "ActiveUsers:OSType_Windows    -0.0007      0.000     -2.919      0.004      -0.001      -0.000\n",
      "ActiveUsers:OSType_iOS        -0.0010      0.000     -8.079      0.000      -0.001      -0.001\n",
      "I(ActiveUsers ** 2)        -4.163e-07   4.36e-08     -9.547      0.000   -5.02e-07   -3.31e-07\n",
      "==============================================================================\n",
      "Omnibus:                      230.835   Durbin-Watson:                   1.928\n",
      "Prob(Omnibus):                  0.000   Jarque-Bera (JB):             3266.312\n",
      "Skew:                           1.617   Prob(JB):                         0.00\n",
      "Kurtosis:                      15.070   Cond. No.                     4.22e+08\n",
      "==============================================================================\n",
      "\n",
      "Notes:\n",
      "[1] Standard Errors assume that the covariance matrix of the errors is correctly specified.\n",
      "[2] The condition number is large, 4.22e+08. This might indicate that there are\n",
      "strong multicollinearity or other numerical problems.\n"
     ]
    }
   ],
   "source": [
    "# vyhodime InteractingPct**2\n",
    "formula_x_y = 'ActiveUsers + InteractingPct + OSType_MacOS + OSType_Windows'\n",
    "formula_xy = 'ActiveUsers:InteractingPct + ActiveUsers:OSType_MacOS + ActiveUsers:OSType_Windows + ActiveUsers:OSType_iOS'\n",
    "formula_x2_y2 = 'I(ActiveUsers**2)'\n",
    "formula = 'Q(\"Ping [ms]\") ~ ' + formula_x_y + ' + ' + formula_xy + ' + ' + formula_x2_y2\n",
    "\n",
    "model = smf.ols(formula=formula, data=df)\n",
    "results = model.fit()\n",
    "print(results.summary())"
   ]
  },
  {
   "cell_type": "markdown",
   "id": "8fee8731-0a64-46db-99cb-30a5bdb7557d",
   "metadata": {},
   "source": [
    "Nyní vidíme, že jediná proměnná, která má p-hodnotu vyšší než 0.05 je proměnná OSType_MacOS. Proto ji z regresního podelu také vypustíme."
   ]
  },
  {
   "cell_type": "code",
   "execution_count": 86,
   "id": "a7ed87a5-9331-43f0-8c16-1d4c4e236f55",
   "metadata": {},
   "outputs": [
    {
     "name": "stdout",
     "output_type": "stream",
     "text": [
      "                            OLS Regression Results                            \n",
      "==============================================================================\n",
      "Dep. Variable:         Q(\"Ping [ms]\")   R-squared:                       0.843\n",
      "Model:                            OLS   Adj. R-squared:                  0.840\n",
      "Method:                 Least Squares   F-statistic:                     330.9\n",
      "Date:                Sun, 10 Dec 2023   Prob (F-statistic):          9.30e-193\n",
      "Time:                        16:23:13   Log-Likelihood:                -1599.7\n",
      "No. Observations:                 502   AIC:                             3217.\n",
      "Df Residuals:                     493   BIC:                             3255.\n",
      "Df Model:                           8                                         \n",
      "Covariance Type:            nonrobust                                         \n",
      "==============================================================================================\n",
      "                                 coef    std err          t      P>|t|      [0.025      0.975]\n",
      "----------------------------------------------------------------------------------------------\n",
      "Intercept                      0.7923      1.575      0.503      0.615      -2.302       3.887\n",
      "ActiveUsers                    0.0099      0.001     19.167      0.000       0.009       0.011\n",
      "InteractingPct                34.2568      2.107     16.262      0.000      30.118      38.396\n",
      "OSType_Windows                 7.3575      1.405      5.236      0.000       4.597      10.118\n",
      "ActiveUsers:InteractingPct    -0.0031      0.000     -8.832      0.000      -0.004      -0.002\n",
      "ActiveUsers:OSType_MacOS       0.0017      0.000     13.603      0.000       0.001       0.002\n",
      "ActiveUsers:OSType_Windows    -0.0007      0.000     -2.710      0.007      -0.001      -0.000\n",
      "ActiveUsers:OSType_iOS        -0.0011      0.000     -8.118      0.000      -0.001      -0.001\n",
      "I(ActiveUsers ** 2)        -4.146e-07   4.36e-08     -9.511      0.000      -5e-07   -3.29e-07\n",
      "==============================================================================\n",
      "Omnibus:                      242.580   Durbin-Watson:                   1.931\n",
      "Prob(Omnibus):                  0.000   Jarque-Bera (JB):             3742.643\n",
      "Skew:                           1.701   Prob(JB):                         0.00\n",
      "Kurtosis:                      15.937   Cond. No.                     4.21e+08\n",
      "==============================================================================\n",
      "\n",
      "Notes:\n",
      "[1] Standard Errors assume that the covariance matrix of the errors is correctly specified.\n",
      "[2] The condition number is large, 4.21e+08. This might indicate that there are\n",
      "strong multicollinearity or other numerical problems.\n"
     ]
    }
   ],
   "source": [
    "# drop the OSType_MacOS variable\n",
    "formula_x_y = 'ActiveUsers + InteractingPct + OSType_Windows'\n",
    "formula_xy = 'ActiveUsers:InteractingPct + ActiveUsers:OSType_MacOS + ActiveUsers:OSType_Windows + ActiveUsers:OSType_iOS'\n",
    "formula_x2_y2 = 'I(ActiveUsers**2)'\n",
    "formula = 'Q(\"Ping [ms]\") ~ ' + formula_x_y + ' + ' + formula_xy + ' + ' + formula_x2_y2\n",
    "\n",
    "model = smf.ols(formula=formula, data=df)\n",
    "results = model.fit()\n",
    "print(results.summary())"
   ]
  },
  {
   "cell_type": "markdown",
   "id": "e7a0818c-3094-4c51-8691-e85804e5c728",
   "metadata": {},
   "source": [
    "Z posledního regresního modelu je vidět, že jediná p-hodnota, která se v něm vyskytuje a je vyšší než hodnota 0.05 je p-hodnota konstanty (Intercept). Tu z modelu zpravidla nevyřazujeme a proto ji i v našem modelu ponecháme. Nalezli jsme tedy výsledný kvadratický model s charakteristikami vypsanými výše.  \n",
    "Po dosazení bodových odhadů do rovnice získáváme následující rovnici:\n",
    "$Ping = 0.0099*ActiveUsers + 34.2568*InteractingPct + 7.3575*OSType\\_Windows - 0.0031*ActiveUsers*InteractingPct + 0.0017*ActiveUsers*OSType\\_MacOS - 0.0017*ActiveUsers*OSType\\_Windows - 0.0011*ActiveUsers*OSType\\_iOS - 4.146e-07*ActiveUsers^2 + \\epsilon$\n"
   ]
  },
  {
   "cell_type": "markdown",
   "id": "c4ea69d5-d8e2-4925-b198-d1049fca8b5c",
   "metadata": {},
   "source": [
    "## UKOLY k 2a\n",
    "- Zapište rovnici Vašeho finálního modelu.\n",
    "- Diskutujte splnění předpokladů lineární regrese a základní regresní diagnostiky.\n",
    "- Pokud (až během regresního modelování) identifikujete některé „extrémně odlehlé hodnoty“ můžete ty „nejodlehlejší“ hodnoty, po alespoň krátkém zdůvodnění, vyřadit."
   ]
  },
  {
   "cell_type": "code",
   "execution_count": null,
   "id": "8d6fb509-1794-4195-80e7-e1fc33165e58",
   "metadata": {},
   "outputs": [],
   "source": []
  },
  {
   "cell_type": "markdown",
   "id": "5f13d387-87a7-4c21-8702-fcee9c7befc9",
   "metadata": {},
   "source": [
    "2) Pomocí Vašeho výsledného modelu identifikujte, pro které nastavení parametrů má\n",
    "odezva nejproblematičtější hodnotu."
   ]
  },
  {
   "cell_type": "markdown",
   "id": "2d376780-1ed9-43de-b9e6-98c93dd1dc6d",
   "metadata": {},
   "source": [
    "TODO:\n",
    "Výsledný model bude mít nejproblematičtější hodnotu pro maximální/minimální hodnotu Ping."
   ]
  },
  {
   "cell_type": "code",
   "execution_count": 26,
   "id": "79caa962-fc6f-4e0f-bbab-29af15c21806",
   "metadata": {},
   "outputs": [
    {
     "name": "stdout",
     "output_type": "stream",
     "text": [
      "Parameter settings for maximum Ping [ms]:\n",
      "ActiveUsers       5513.0000\n",
      "InteractingPct       0.4912\n",
      "Ping [ms]           90.0000\n",
      "OSType_MacOS         0.0000\n",
      "OSType_Windows       1.0000\n",
      "OSType_iOS           0.0000\n",
      "Name: 255, dtype: float64\n",
      "\n",
      "Parameter settings for minimum Ping [ms]:\n",
      "ActiveUsers       1036.0000\n",
      "InteractingPct       0.2179\n",
      "Ping [ms]           11.0000\n",
      "OSType_MacOS         0.0000\n",
      "OSType_Windows       0.0000\n",
      "OSType_iOS           1.0000\n",
      "Name: 85, dtype: float64\n"
     ]
    }
   ],
   "source": [
    "# Identify the row with the maximum and minimum values of the dependent variable\n",
    "max_ping_row = df.loc[df['Ping [ms]'].idxmax()]\n",
    "min_ping_row = df.loc[df['Ping [ms]'].idxmin()]\n",
    "\n",
    "# Display the parameter settings for maximum and minimum values\n",
    "print(\"Parameter settings for maximum Ping [ms]:\")\n",
    "print(max_ping_row)\n",
    "\n",
    "print(\"\\nParameter settings for minimum Ping [ms]:\")\n",
    "print(min_ping_row)\n"
   ]
  },
  {
   "cell_type": "markdown",
   "id": "ab66af2e-2da5-473e-bd00-f2ba5c05fe56",
   "metadata": {},
   "source": [
    "3) Odhadněte hodnotu odezvy uživatele s Windows, při průměrném nastavení ostatních\n",
    "parametrů a vypočtěte konfidenční interval a predikční interval pro toto nastavení."
   ]
  },
  {
   "cell_type": "code",
   "execution_count": 91,
   "id": "f1eca8a5-9a8e-4cb0-af2a-50bba12a3ec8",
   "metadata": {},
   "outputs": [
    {
     "name": "stdout",
     "output_type": "stream",
     "text": [
      "Mean response for a user with Windows at average settings: 54.8693\n",
      "\n",
      "Confidence Interval:\n",
      "[ 53.71073185864743 ,  56.02789640613191 ]\n",
      "\n",
      "Prediction Interval:\n",
      "[ 43.19858707413758 ,  66.54004119064176 ]\n"
     ]
    }
   ],
   "source": [
    "# average settings\n",
    "average_settings = {\n",
    "    'ActiveUsers': df['ActiveUsers'].mean(),\n",
    "    'InteractingPct': df['InteractingPct'].mean(),\n",
    "    'OSType_MacOS': 0,\n",
    "    'OSType_iOS': 0,\n",
    "    'OSType_Windows': 1\n",
    "}\n",
    "\n",
    "# get the prediction for the average_settings\n",
    "prediction = results.get_prediction(average_settings)\n",
    "\n",
    "# get the mean response from prediction\n",
    "mean_response = prediction.predicted_mean\n",
    "print(f\"Mean response for a user with Windows at average settings: {mean_response[0]:.4f}\")\n",
    "\n",
    "# find out the prediction and confidence intervals\n",
    "pred = prediction.summary_frame(alpha=0.05)\n",
    "# confidence interval - mean_ci\n",
    "print(\"\\nConfidence Interval:\")\n",
    "print(\"[\", pred['mean_ci_lower'][0], \", \", pred['mean_ci_upper'][0], \"]\")\n",
    "\n",
    "# prediction interval - obs_ci\n",
    "print(\"\\nPrediction Interval:\")\n",
    "print(\"[\", pred['obs_ci_lower'][0], \", \", pred['obs_ci_upper'][0], \"]\")"
   ]
  },
  {
   "cell_type": "markdown",
   "id": "4f9a6636-b537-410c-bb0c-69868ace1704",
   "metadata": {},
   "source": [
    "4) Na základě jakýchkoli vypočtených charakteristik argumentujte, zdali je Váš model\n",
    "„vhodný“ pro další použití."
   ]
  },
  {
   "cell_type": "markdown",
   "id": "a396f0c4-eab0-48ab-924a-f5b0ebb81a8b",
   "metadata": {},
   "source": [
    "TODO"
   ]
  }
 ],
 "metadata": {
  "kernelspec": {
   "display_name": "Python 3 (ipykernel)",
   "language": "python",
   "name": "python3"
  },
  "language_info": {
   "codemirror_mode": {
    "name": "ipython",
    "version": 3
   },
   "file_extension": ".py",
   "mimetype": "text/x-python",
   "name": "python",
   "nbconvert_exporter": "python",
   "pygments_lexer": "ipython3",
   "version": "3.10.12"
  }
 },
 "nbformat": 4,
 "nbformat_minor": 5
}
